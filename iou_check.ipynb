{
 "cells": [
  {
   "cell_type": "code",
   "execution_count": 42,
   "metadata": {},
   "outputs": [],
   "source": [
    "import numpy as np\n",
    "import os\n",
    "def iou_2d(box1,box2):\n",
    "    area1 = (box1[2]-box1[0])*(box1[3]-box1[1])\n",
    "    area2 = (box2[2]-box2[0])*(box2[3]-box2[1])\n",
    "    area_sum = area1 + area2\n",
    "    \n",
    "    #計算重疊座標 設重疊box座標為 [x1,y1,x2,y2]\n",
    "    x1 = max(box1[0], box2[0])\n",
    "    y1 = max(box1[1], box2[1])\n",
    "    x2 = min(box1[2], box2[2])\n",
    "    y2 = min(box1[3], box2[3])\n",
    "    if x1 >= x2 or y1 >= y2:\n",
    "        return 0\n",
    "    else:\n",
    "        inter_area = (x2-x1)*(y2-y1)\n",
    "    return inter_area/(area_sum-inter_area)\n",
    "def radius2angle(radius):\n",
    "    return radius*180/np.pi"
   ]
  },
  {
   "cell_type": "code",
   "execution_count": 47,
   "metadata": {},
   "outputs": [
    {
     "name": "stdout",
     "output_type": "stream",
     "text": [
      "[{'2dboxes': ['32.42', '207.63', '424.94', '374.00'], 'alpha': '1.94', 'r_y': '1.53', 'group': -1}, {'2dboxes': ['711.93', '187.13', '880.79', '303.48'], 'alpha': '-1.79', 'r_y': '-1.57', 'group': -1}, {'2dboxes': ['320.24', '191.49', '489.68', '308.24'], 'alpha': '-1.31', 'r_y': '-1.57', 'group': -1}, {'2dboxes': ['682.98', '188.34', '784.17', '260.16'], 'alpha': '-1.77', 'r_y': '-1.62', 'group': -1}, {'2dboxes': ['662.34', '186.79', '735.16', '243.57'], 'alpha': '-1.74', 'r_y': '-1.62', 'group': -1}, {'2dboxes': ['493.01', '185.98', '549.95', '235.17'], 'alpha': '-1.48', 'r_y': '-1.60', 'group': -1}, {'2dboxes': ['656.75', '172.97', '714.78', '229.10'], 'alpha': '-1.70', 'r_y': '-1.60', 'group': -1}, {'2dboxes': ['528.07', '184.71', '567.72', '217.73'], 'alpha': '1.63', 'r_y': '1.55', 'group': -1}, {'2dboxes': ['634.65', '183.14', '662.92', '207.99'], 'alpha': '-1.62', 'r_y': '-1.57', 'group': -1}]\n",
      "[{'2dboxes': ['710.95', '190.12', '869.62', '297.20'], 'alpha': '-1.81', 'r_y': '-1.58', 'group': -1}, {'2dboxes': ['493.31', '186.91', '551.66', '235.36'], 'alpha': '-1.45', 'r_y': '-1.57', 'group': -1}, {'2dboxes': ['314.79', '195.16', '489.30', '304.64'], 'alpha': '-1.28', 'r_y': '-1.54', 'group': -1}, {'2dboxes': ['686.08', '189.78', '779.29', '257.90'], 'alpha': '-1.74', 'r_y': '-1.57', 'group': -1}, {'2dboxes': ['533.32', '184.88', '569.68', '218.32'], 'alpha': '1.64', 'r_y': '1.56', 'group': -1}, {'2dboxes': ['36.81', '204.14', '419.36', '390.95'], 'alpha': '1.97', 'r_y': '1.54', 'group': -1}, {'2dboxes': ['632.15', '182.02', '662.29', '206.07'], 'alpha': '-1.62', 'r_y': '-1.57', 'group': -1}, {'2dboxes': ['660.75', '184.19', '738.88', '239.12'], 'alpha': '-1.72', 'r_y': '-1.60', 'group': -1}, {'2dboxes': ['564.05', '179.69', '586.52', '200.67'], 'alpha': '1.62', 'r_y': '1.58', 'group': -1}]\n"
     ]
    }
   ],
   "source": [
    "img_id=7470\n",
    "groudtruth_angle='data/KITTI/object/training/label_2/%06d.txt'%img_id\n",
    "origin_angle='outputs/data/%06d.txt'%img_id\n",
    "group_label='outputs60/data/%06d.txt'%img_id\n",
    "dicts={}\n",
    "attributelist=[]\n",
    "grouplist=[]\n",
    "with open(group_label) as f:\n",
    "    for line in f:\n",
    "        line=line.split()\n",
    "        if line[0]=='DontCare':\n",
    "            continue\n",
    "        grouplist.append({'2dboxes':line[4:8],\n",
    "        'alpha':line[3],\n",
    "        'r_y':line[14],\n",
    "        'group':-1})\n",
    "with open(origin_angle) as f:\n",
    "    for line in f:\n",
    "        line=line.split()\n",
    "        if line[0]=='DontCare':\n",
    "            continue\n",
    "        attributelist.append({'2dboxes':line[4:8],\n",
    "        'alpha':line[3],\n",
    "        'r_y':line[14],\n",
    "        'group':-1})\n",
    "gt_list=[]\n",
    "with open(groudtruth_angle) as f2:\n",
    "    for line in f2:\n",
    "        line =line.split()\n",
    "        if line[0]=='DontCare':\n",
    "            continue\n",
    "        gt_list.append({'2dboxes':line[4:8],\n",
    "        'alpha':line[3],\n",
    "        'r_y':line[14],\n",
    "        'group':-1})\n",
    "\n",
    "print(gt_list)\n",
    "print(attributelist)\n"
   ]
  },
  {
   "cell_type": "code",
   "execution_count": 48,
   "metadata": {},
   "outputs": [
    {
     "name": "stdout",
     "output_type": "stream",
     "text": [
      "[{'2dboxes': [32.42, 207.63, 424.94, 374.0], 'alpha': 1.94, 'r_y': 1.53, 'group': -1}, {'2dboxes': [711.93, 187.13, 880.79, 303.48], 'alpha': -1.79, 'r_y': -1.57, 'group': -1}, {'2dboxes': [320.24, 191.49, 489.68, 308.24], 'alpha': -1.31, 'r_y': -1.57, 'group': -1}, {'2dboxes': [682.98, 188.34, 784.17, 260.16], 'alpha': -1.77, 'r_y': -1.62, 'group': -1}, {'2dboxes': [662.34, 186.79, 735.16, 243.57], 'alpha': -1.74, 'r_y': -1.62, 'group': -1}, {'2dboxes': [493.01, 185.98, 549.95, 235.17], 'alpha': -1.48, 'r_y': -1.6, 'group': -1}, {'2dboxes': [656.75, 172.97, 714.78, 229.1], 'alpha': -1.7, 'r_y': -1.6, 'group': -1}, {'2dboxes': [528.07, 184.71, 567.72, 217.73], 'alpha': 1.63, 'r_y': 1.55, 'group': -1}, {'2dboxes': [634.65, 183.14, 662.92, 207.99], 'alpha': -1.62, 'r_y': -1.57, 'group': -1}]\n",
      "[{'2dboxes': [710.95, 190.12, 869.62, 297.2], 'alpha': -1.81, 'r_y': -1.58, 'group': -1}, {'2dboxes': [493.31, 186.91, 551.66, 235.36], 'alpha': -1.45, 'r_y': -1.57, 'group': -1}, {'2dboxes': [314.79, 195.16, 489.3, 304.64], 'alpha': -1.28, 'r_y': -1.54, 'group': -1}, {'2dboxes': [686.08, 189.78, 779.29, 257.9], 'alpha': -1.74, 'r_y': -1.57, 'group': -1}, {'2dboxes': [533.32, 184.88, 569.68, 218.32], 'alpha': 1.64, 'r_y': 1.56, 'group': -1}, {'2dboxes': [36.81, 204.14, 419.36, 390.95], 'alpha': 1.97, 'r_y': 1.54, 'group': -1}, {'2dboxes': [632.15, 182.02, 662.29, 206.07], 'alpha': -1.62, 'r_y': -1.57, 'group': -1}, {'2dboxes': [660.75, 184.19, 738.88, 239.12], 'alpha': -1.72, 'r_y': -1.6, 'group': -1}, {'2dboxes': [564.05, 179.69, 586.52, 200.67], 'alpha': 1.62, 'r_y': 1.58, 'group': -1}]\n",
      "[{'2dboxes': [710.93, 191.62, 878.62, 298.57], 'alpha': -1.92, 'r_y': -1.69, 'group': -1}, {'2dboxes': [308.96, 193.12, 485.68, 308.65], 'alpha': -1.27, 'r_y': -1.53, 'group': -1}, {'2dboxes': [492.37, 186.83, 549.12, 236.0], 'alpha': -1.46, 'r_y': -1.58, 'group': -1}, {'2dboxes': [687.29, 190.01, 778.08, 259.01], 'alpha': -1.72, 'r_y': -1.56, 'group': -1}, {'2dboxes': [663.48, 181.54, 734.61, 241.23], 'alpha': -1.7, 'r_y': -1.58, 'group': -1}, {'2dboxes': [655.13, 173.93, 720.04, 231.54], 'alpha': -1.7, 'r_y': -1.6, 'group': -1}, {'2dboxes': [55.11, 207.3, 426.02, 370.84], 'alpha': 2.0, 'r_y': 1.59, 'group': -1}, {'2dboxes': [534.37, 185.34, 569.06, 217.28], 'alpha': 1.57, 'r_y': 1.49, 'group': -1}, {'2dboxes': [633.24, 182.48, 662.6, 206.45], 'alpha': -1.64, 'r_y': -1.59, 'group': -1}]\n"
     ]
    }
   ],
   "source": [
    "for i in range(len(attributelist)):\n",
    "    attributelist[i]['2dboxes']=[float(x) for x in attributelist[i]['2dboxes']]\n",
    "    attributelist[i]['alpha'] =float(attributelist[i]['alpha'])\n",
    "    attributelist[i]['r_y'] =float(attributelist[i]['r_y'])\n",
    "\n",
    "for i in range(len(gt_list)):\n",
    "    gt_list[i]['2dboxes']=[float(x) for x in gt_list[i]['2dboxes']]\n",
    "    gt_list[i]['alpha'] =float(gt_list[i]['alpha'])\n",
    "    gt_list[i]['r_y'] =float(gt_list[i]['r_y'])\n",
    "\n",
    "for i in range(len(grouplist)):\n",
    "    grouplist[i]['2dboxes']=[float(x) for x in grouplist[i]['2dboxes']]\n",
    "    grouplist[i]['alpha'] =float(grouplist[i]['alpha'])\n",
    "    grouplist[i]['r_y'] =float(grouplist[i]['r_y'])\n",
    "\n",
    "\n",
    "        \n",
    "print(gt_list)\n",
    "print(attributelist)\n",
    "print(grouplist)"
   ]
  },
  {
   "cell_type": "code",
   "execution_count": 50,
   "metadata": {},
   "outputs": [],
   "source": [
    "def matching (gt_list,attribute):\n",
    "    for index,info in enumerate(gt_list):\n",
    "        tempoverlap=0\n",
    "        for attribute_index,attribute_info in enumerate(attribute): \n",
    "            overlap=iou_2d(gt_list[index]['2dboxes'],attribute[attribute_index]['2dboxes'])\n",
    "            if overlap>tempoverlap and overlap>0.5:\n",
    "                tempoverlap=overlap\n",
    "                #print(second_frame_index)\n",
    "                gt_list[index]['group']=attribute_index\n",
    "                attribute[attribute_index]['group']=attribute_index\n",
    "        #print(tempoverlap)\n",
    "        #print(index,second_frame_index)\n",
    "def orient_consistency(gt_list,attribute):\n",
    "    match=0\n",
    "    orient_cons_list=[]\n",
    "    for index,info in enumerate(gt_list):\n",
    "        if gt_list[index]['group'] == -1:\n",
    "            continue\n",
    "        for attribute_index,attribute_info in enumerate(attribute):\n",
    "                if gt_list[index]['group'] == attribute[attribute_index]['group']:\n",
    "                    match+=1\n",
    "                    radius_diff=abs(gt_list[index]['alpha']-attribute[attribute_index]['alpha'])\n",
    "                    orient_cons_list.append(radius_diff)\n",
    "                    break\n",
    "                    \n",
    "    return orient_cons_list\n"
   ]
  },
  {
   "cell_type": "code",
   "execution_count": 54,
   "metadata": {},
   "outputs": [
    {
     "name": "stdout",
     "output_type": "stream",
     "text": [
      "[0.030000000000000027, 0.020000000000000018, 0.030000000000000027, 0.030000000000000027, 0.020000000000000018, 0.030000000000000027, 3.67, 0.010000000000000009, 0.0]\n",
      "0.42666666666666664\n",
      "origin angle diff: 24.446199258915122\n",
      "[0.06000000000000005, 0.1299999999999999, 0.040000000000000036, 0.050000000000000044, 0.040000000000000036, 0.020000000000000018, 0.0, 0.05999999999999983, 0.019999999999999796]\n",
      "0.046666666666666634\n",
      "group angle diff: 2.67380304394384\n"
     ]
    }
   ],
   "source": [
    "matching(gt_list,attributelist)\n",
    "orient_diff=orient_consistency(gt_list,attributelist)\n",
    "print(orient_diff)\n",
    "radius=(sum(orient_diff)/len(orient_diff))\n",
    "\n",
    "print(radius)\n",
    "print('origin angle diff:',radius2angle(radius))\n",
    "matching(gt_list,grouplist)\n",
    "group_orient_diff=orient_consistency(gt_list,grouplist)\n",
    "print(group_orient_diff)\n",
    "group_radius=(sum(group_orient_diff)/len(group_orient_diff))\n",
    "print(group_radius)\n",
    "print('group angle diff:',radius2angle(group_radius))"
   ]
  }
 ],
 "metadata": {
  "kernelspec": {
   "display_name": "Python 3.8.16 ('pytorch1')",
   "language": "python",
   "name": "python3"
  },
  "language_info": {
   "codemirror_mode": {
    "name": "ipython",
    "version": 3
   },
   "file_extension": ".py",
   "mimetype": "text/x-python",
   "name": "python",
   "nbconvert_exporter": "python",
   "pygments_lexer": "ipython3",
   "version": "3.8.16"
  },
  "orig_nbformat": 4,
  "vscode": {
   "interpreter": {
    "hash": "b7d7c100ca5ca98538b307c86bed98b1e3fa5ad069a975606ade551982971959"
   }
  }
 },
 "nbformat": 4,
 "nbformat_minor": 2
}
